{
 "cells": [
  {
   "cell_type": "code",
   "execution_count": 1,
   "id": "5a0b66d0-3311-4a9c-8a0e-dffebf615d35",
   "metadata": {},
   "outputs": [],
   "source": [
    "import torch"
   ]
  },
  {
   "cell_type": "code",
   "execution_count": 5,
   "id": "acfd0cd5-4c07-403f-81d0-a8c9cd237a38",
   "metadata": {},
   "outputs": [
    {
     "name": "stdout",
     "output_type": "stream",
     "text": [
      "tensor([1, 2, 3, 4])\n"
     ]
    }
   ],
   "source": [
    "data = [1, 2, 3, 4]\n",
    "tensor = torch.tensor(data) \n",
    "print(tensor)"
   ]
  },
  {
   "cell_type": "code",
   "execution_count": 7,
   "id": "62feed96-2af1-4ffa-9c56-6fd9f19b519a",
   "metadata": {},
   "outputs": [
    {
     "name": "stdout",
     "output_type": "stream",
     "text": [
      "tensor([[0., 0., 0.],\n",
      "        [0., 0., 0.]])\n"
     ]
    }
   ],
   "source": [
    "zeros_tensor = torch.zeros(2, 3) \n",
    "print(zeros_tensor)"
   ]
  },
  {
   "cell_type": "code",
   "execution_count": 9,
   "id": "2aed9b42-207e-48bd-a512-45a93c3e01aa",
   "metadata": {},
   "outputs": [
    {
     "name": "stdout",
     "output_type": "stream",
     "text": [
      "tensor([[1., 1., 1.],\n",
      "        [1., 1., 1.]])\n"
     ]
    }
   ],
   "source": [
    "ones_tensor = torch.ones(2, 3) \n",
    "print(ones_tensor)"
   ]
  },
  {
   "cell_type": "code",
   "execution_count": 11,
   "id": "2421a818-6572-4b7e-b460-e0f945a11e0d",
   "metadata": {},
   "outputs": [
    {
     "name": "stdout",
     "output_type": "stream",
     "text": [
      "tensor([[0.8500, 0.5538, 0.5677],\n",
      "        [0.1693, 0.4645, 0.3494],\n",
      "        [0.5969, 0.7339, 0.9124]])\n"
     ]
    }
   ],
   "source": [
    "rand_tensor = torch.rand(3, 3)\n",
    "print(rand_tensor)"
   ]
  },
  {
   "cell_type": "code",
   "execution_count": 13,
   "id": "caa44e85-017c-436f-8837-9808ed04e09a",
   "metadata": {},
   "outputs": [
    {
     "name": "stdout",
     "output_type": "stream",
     "text": [
      "tensor([[-0.3814, -0.3696, -0.8462],\n",
      "        [ 0.4521, -0.4258, -1.0446]])\n"
     ]
    }
   ],
   "source": [
    "randn_tensor = torch.randn(2, 3)\n",
    "print(randn_tensor)"
   ]
  },
  {
   "cell_type": "code",
   "execution_count": 15,
   "id": "fe44416c-ac02-46dd-89b8-d8969d5d712c",
   "metadata": {},
   "outputs": [
    {
     "name": "stdout",
     "output_type": "stream",
     "text": [
      "tensor([ 0.0000,  2.5000,  5.0000,  7.5000, 10.0000])\n"
     ]
    }
   ],
   "source": [
    "linspace_tensor = torch.linspace(0, 10, steps=5) \n",
    "print(linspace_tensor)"
   ]
  },
  {
   "cell_type": "code",
   "execution_count": 17,
   "id": "18b75ea8-31b3-4c93-9ef8-d8c4ccab62eb",
   "metadata": {},
   "outputs": [
    {
     "name": "stdout",
     "output_type": "stream",
     "text": [
      "tensor([0, 2, 4, 6, 8])\n"
     ]
    }
   ],
   "source": [
    "arange_tensor = torch.arange(0, 10, step=2) \n",
    "print(arange_tensor)"
   ]
  },
  {
   "cell_type": "code",
   "execution_count": 19,
   "id": "694966de-81e9-475b-81cb-de0b14e7b0bb",
   "metadata": {},
   "outputs": [
    {
     "name": "stdout",
     "output_type": "stream",
     "text": [
      "tensor([[1., 0., 0.],\n",
      "        [0., 1., 0.],\n",
      "        [0., 0., 1.]])\n"
     ]
    }
   ],
   "source": [
    "eye_tensor = torch.eye(3) \n",
    "print(eye_tensor)"
   ]
  },
  {
   "cell_type": "code",
   "execution_count": 21,
   "id": "79d48105-35fd-42ff-992f-853ec51ad3ea",
   "metadata": {},
   "outputs": [],
   "source": [
    "tensor1 = torch.tensor([[1, 2], [3, 4]])\n",
    "tensor2 = torch.tensor([[5, 6], [7, 8]])\n",
    "\n",
    "matmul_result = torch.matmul(tensor1, tensor2)\n",
    "print(matmul_result)"
   ]
  },
  {
   "cell_type": "code",
   "execution_count": 25,
   "id": "00439b01-4505-414d-919f-17ddb5f9662d",
   "metadata": {},
   "outputs": [],
   "source": [
    "tensor1 = torch.tensor([[1, 2], [3, 4]])\n",
    "tensor2 = torch.tensor([[5, 6], [7, 8]])\n",
    "\n",
    "mm_result = torch.mm(tensor1, tensor2)\n",
    "print(mm_result)"
   ]
  },
  {
   "cell_type": "code",
   "execution_count": 31,
   "id": "d183ad19-bfc6-4726-83c6-f3cf62981132",
   "metadata": {},
   "outputs": [
    {
     "name": "stdout",
     "output_type": "stream",
     "text": [
      "torch.Size([10, 3, 5])\n"
     ]
    }
   ],
   "source": [
    "tensor1 = torch.randn(10, 3, 4)\n",
    "\n",
    "tensor2 = torch.randn(10, 4, 5)\n",
    "\n",
    "bmm_result = torch.bmm(tensor1, tensor2) \n",
    "\n",
    "print(bmm_result.size()) "
   ]
  },
  {
   "cell_type": "code",
   "execution_count": 33,
   "id": "66814033-9129-4b57-9b62-90a245afe5b5",
   "metadata": {},
   "outputs": [
    {
     "name": "stdout",
     "output_type": "stream",
     "text": [
      "tensor([[1, 2],\n",
      "        [3, 4],\n",
      "        [5, 6]])\n"
     ]
    }
   ],
   "source": [
    "tensor1 = torch.tensor([[1, 2], [3, 4]])\n",
    "\n",
    "tensor2 = torch.tensor([[5, 6]])\n",
    "\n",
    "cat_result = torch.cat((tensor1, tensor2), dim=0)\n",
    "\n",
    "print(cat_result)"
   ]
  },
  {
   "cell_type": "code",
   "execution_count": 35,
   "id": "4559b9e9-f908-4d34-b5ed-78aca7d47bf3",
   "metadata": {},
   "outputs": [
    {
     "name": "stdout",
     "output_type": "stream",
     "text": [
      "tensor([[1, 2],\n",
      "        [3, 4]])\n"
     ]
    }
   ],
   "source": [
    "tensor1 = torch.tensor([1, 2])\n",
    "\n",
    "tensor2 = torch.tensor([3, 4])\n",
    "\n",
    "stack_result = torch.stack((tensor1, tensor2), dim=0)\n",
    "\n",
    "print(stack_result)"
   ]
  },
  {
   "cell_type": "code",
   "execution_count": 39,
   "id": "c8a29301-200a-4209-a542-ceb5f5abb76c",
   "metadata": {},
   "outputs": [
    {
     "name": "stdout",
     "output_type": "stream",
     "text": [
      "tensor([1, 2])\n",
      "tensor([3, 4])\n",
      "tensor([5, 6])\n"
     ]
    }
   ],
   "source": [
    "tensor = torch.tensor([1, 2, 3, 4, 5, 6])\n",
    "\n",
    "\n",
    "# Split into three chunks\n",
    "\n",
    "split_result = torch.split(tensor, 2)\n",
    "\n",
    "for chunk in split_result:\n",
    "\n",
    "      print(chunk)"
   ]
  },
  {
   "cell_type": "code",
   "execution_count": 41,
   "id": "7e05f58c-1de7-42c6-a98d-107dffe4ef4e",
   "metadata": {},
   "outputs": [
    {
     "name": "stdout",
     "output_type": "stream",
     "text": [
      "tensor([1, 2])\n",
      "tensor([3, 4])\n",
      "tensor([5, 6])\n"
     ]
    }
   ],
   "source": [
    "tensor = torch.tensor([1, 2, 3, 4, 5, 6])\n",
    "\n",
    "chunk_result = torch.chunk(tensor, 3) \n",
    "\n",
    "for chunk in chunk_result:\n",
    "        print(chunk)"
   ]
  },
  {
   "cell_type": "code",
   "execution_count": 43,
   "id": "7be789ea-d323-45d2-b5b5-50aff08117e3",
   "metadata": {},
   "outputs": [
    {
     "name": "stdout",
     "output_type": "stream",
     "text": [
      "tensor([[1, 2],\n",
      "        [3, 4],\n",
      "        [5, 6]])\n"
     ]
    }
   ],
   "source": [
    "tensor = torch.tensor([[1, 2, 3], [4, 5, 6]])\n",
    "\n",
    "reshape_result = torch.reshape(tensor, (3, 2)) \n",
    "print(reshape_result)"
   ]
  },
  {
   "cell_type": "code",
   "execution_count": 45,
   "id": "9880aa64-93f2-4fa2-9254-59a134eb6bc8",
   "metadata": {},
   "outputs": [
    {
     "name": "stdout",
     "output_type": "stream",
     "text": [
      "tensor([[1, 2],\n",
      "        [3, 4],\n",
      "        [5, 6]])\n"
     ]
    }
   ],
   "source": [
    "tensor = torch.tensor([[1, 2, 3], [4, 5, 6]])\n",
    "\n",
    "view_result = tensor.view(3, 2) \n",
    "print(view_result)"
   ]
  },
  {
   "cell_type": "code",
   "execution_count": 47,
   "id": "5f1faf37-7beb-4c13-8589-6b7c0e346cf4",
   "metadata": {},
   "outputs": [
    {
     "name": "stdout",
     "output_type": "stream",
     "text": [
      "tensor([[1, 4],\n",
      "        [2, 5],\n",
      "        [3, 6]])\n"
     ]
    }
   ],
   "source": [
    "tensor = torch.tensor([[1, 2, 3], [4, 5, 6]])\n",
    "\n",
    "transpose_result = torch.transpose(tensor, 0, 1)\n",
    "\n",
    "print(transpose_result)"
   ]
  },
  {
   "cell_type": "code",
   "execution_count": 49,
   "id": "04e71650-857a-4429-9244-a90de831288a",
   "metadata": {},
   "outputs": [
    {
     "name": "stdout",
     "output_type": "stream",
     "text": [
      "tensor([[1, 4],\n",
      "        [2, 5],\n",
      "        [3, 6]])\n"
     ]
    }
   ],
   "source": [
    "tensor = torch.tensor([[1, 2, 3], [4, 5, 6]])\n",
    "t_result = torch.t(tensor)\n",
    "print(t_result)"
   ]
  },
  {
   "cell_type": "code",
   "execution_count": 51,
   "id": "ca8cc5e2-0b7d-4330-b2fb-8d3c35c42ab7",
   "metadata": {},
   "outputs": [
    {
     "name": "stdout",
     "output_type": "stream",
     "text": [
      "tensor([[1, 2, 3, 4]])\n"
     ]
    }
   ],
   "source": [
    "tensor = torch.tensor([1, 2, 3, 4])\n",
    "unsqueeze_result = torch.unsqueeze(tensor, dim=0) \n",
    "print(unsqueeze_result)"
   ]
  },
  {
   "cell_type": "code",
   "execution_count": 53,
   "id": "d9e75f8c-e1f2-4927-9f95-7fa4f53db4b2",
   "metadata": {},
   "outputs": [
    {
     "name": "stdout",
     "output_type": "stream",
     "text": [
      "tensor([1, 2, 3, 4])\n"
     ]
    }
   ],
   "source": [
    "tensor = torch.tensor([[[1, 2, 3, 4]]])\n",
    "\n",
    "squeeze_result = torch.squeeze(tensor) \n",
    "print(squeeze_result)"
   ]
  },
  {
   "cell_type": "code",
   "execution_count": 55,
   "id": "5658a32e-31dd-4d6c-846c-3b3566d86a29",
   "metadata": {},
   "outputs": [
    {
     "name": "stdout",
     "output_type": "stream",
     "text": [
      "tensor([1, 2, 3, 4, 5, 6])\n"
     ]
    }
   ],
   "source": [
    "tensor = torch.tensor([[1, 2, 3], [4, 5, 6]])\n",
    "\n",
    "flatten_result = torch.flatten(tensor)\n",
    "\n",
    "print(flatten_result)"
   ]
  },
  {
   "cell_type": "code",
   "execution_count": 57,
   "id": "028fcb00-242d-439f-8a9c-a0627f151623",
   "metadata": {},
   "outputs": [
    {
     "name": "stdout",
     "output_type": "stream",
     "text": [
      "tensor(5.4772)\n"
     ]
    }
   ],
   "source": [
    "tensor = torch.tensor([1, 2, 3, 4], dtype=torch.float32)\n",
    "\n",
    "norm_result = torch.norm(tensor) \n",
    "print(norm_result)"
   ]
  },
  {
   "cell_type": "code",
   "execution_count": 59,
   "id": "fe0f3304-d09c-4836-abaa-fd0a2713ef1d",
   "metadata": {},
   "outputs": [
    {
     "name": "stdout",
     "output_type": "stream",
     "text": [
      "tensor(4)\n"
     ]
    }
   ],
   "source": [
    "tensor = torch.tensor([[1, 2], [3, 4]])\n",
    "\n",
    "max_result = torch.max(tensor)\n",
    "\n",
    "print(max_result)"
   ]
  },
  {
   "cell_type": "code",
   "execution_count": 61,
   "id": "9fe44cf4-0934-446d-a3e9-83afef1235b8",
   "metadata": {},
   "outputs": [
    {
     "name": "stdout",
     "output_type": "stream",
     "text": [
      "tensor(1)\n"
     ]
    }
   ],
   "source": [
    "tensor = torch.tensor([[1, 2], [3, 4]])\n",
    "\n",
    "min_result = torch.min(tensor)\n",
    "\n",
    "print(min_result)"
   ]
  },
  {
   "cell_type": "code",
   "execution_count": 63,
   "id": "02cd34f8-a043-49aa-b09d-8cd5bde640d4",
   "metadata": {},
   "outputs": [
    {
     "name": "stdout",
     "output_type": "stream",
     "text": [
      "tensor(10)\n"
     ]
    }
   ],
   "source": [
    "tensor = torch.tensor([[1, 2], [3, 4]])\n",
    "\n",
    "sum_result = torch.sum(tensor) \n",
    "print(sum_result)"
   ]
  },
  {
   "cell_type": "code",
   "execution_count": 65,
   "id": "b7ee2441-8832-4f7a-a8f9-11e60065e0bb",
   "metadata": {},
   "outputs": [
    {
     "name": "stdout",
     "output_type": "stream",
     "text": [
      "tensor(2.5000)\n"
     ]
    }
   ],
   "source": [
    "tensor = torch.tensor([[1, 2], [3, 4]], dtype=torch.float32)\n",
    "\n",
    "mean_result = torch.mean(tensor) \n",
    "print(mean_result)"
   ]
  },
  {
   "cell_type": "code",
   "execution_count": 67,
   "id": "aa28c6d1-6274-430a-bc9b-5457d908851f",
   "metadata": {},
   "outputs": [
    {
     "name": "stdout",
     "output_type": "stream",
     "text": [
      "tensor(1.2910)\n"
     ]
    }
   ],
   "source": [
    "tensor = torch.tensor([[1, 2], [3, 4]], dtype=torch.float32)\n",
    "\n",
    "std_result = torch.std(tensor) \n",
    "print(std_result)"
   ]
  },
  {
   "cell_type": "code",
   "execution_count": 69,
   "id": "c6de40c9-8add-42bd-b3d2-fbc135153bbb",
   "metadata": {},
   "outputs": [
    {
     "name": "stdout",
     "output_type": "stream",
     "text": [
      "tensor(1.6667)\n"
     ]
    }
   ],
   "source": [
    "tensor = torch.tensor([[1, 2], [3, 4]], dtype=torch.float32)\n",
    "\n",
    "var_result = torch.var(tensor) \n",
    "print(var_result)"
   ]
  },
  {
   "cell_type": "code",
   "execution_count": 71,
   "id": "88dd92f8-9b8d-4298-9939-c50b13d7b6c8",
   "metadata": {},
   "outputs": [
    {
     "name": "stdout",
     "output_type": "stream",
     "text": [
      "tensor(3)\n"
     ]
    }
   ],
   "source": [
    "tensor = torch.tensor([[1, 2], [3, 4]])\n",
    "\n",
    "argmax_result = torch.argmax(tensor) \n",
    "print(argmax_result)"
   ]
  },
  {
   "cell_type": "code",
   "execution_count": 73,
   "id": "df543004-16a4-48db-b67a-e2dfd6247b20",
   "metadata": {},
   "outputs": [
    {
     "name": "stdout",
     "output_type": "stream",
     "text": [
      "tensor(0)\n"
     ]
    }
   ],
   "source": [
    "tensor = torch.tensor([[1, 2], [3, 4]])\n",
    "\n",
    "argmin_result = torch.argmin(tensor) \n",
    "print(argmin_result)"
   ]
  },
  {
   "cell_type": "code",
   "execution_count": 75,
   "id": "c8f9caf3-957c-4a53-b7fd-ba96e242c315",
   "metadata": {},
   "outputs": [],
   "source": [
    "import torch.nn as nn"
   ]
  },
  {
   "cell_type": "code",
   "execution_count": 79,
   "id": "55b0be9f-6e6a-4677-89da-27b48ca8f2b5",
   "metadata": {},
   "outputs": [
    {
     "name": "stdout",
     "output_type": "stream",
     "text": [
      "tensor([[-0.5587,  0.2314, -0.4909]], grad_fn=<AddmmBackward0>)\n"
     ]
    }
   ],
   "source": [
    "linear = nn.Linear(in_features=2, out_features=3)\n",
    "\n",
    "input_tensor = torch.tensor([[1.0, 2.0]])\n",
    "output_tensor = linear(input_tensor) \n",
    "print(output_tensor)"
   ]
  },
  {
   "cell_type": "code",
   "execution_count": 81,
   "id": "1238bd8d-8871-4ade-aed1-e216b9fa3634",
   "metadata": {},
   "outputs": [
    {
     "name": "stdout",
     "output_type": "stream",
     "text": [
      "torch.Size([1, 1, 3, 3])\n"
     ]
    }
   ],
   "source": [
    "conv2d = nn.Conv2d(in_channels=1, out_channels=1, kernel_size=3)\n",
    "\n",
    "input_tensor = torch.randn(1, 1, 5, 5)\n",
    "output_tensor = conv2d(input_tensor) \n",
    "\n",
    "print(output_tensor.size())"
   ]
  },
  {
   "cell_type": "code",
   "execution_count": 83,
   "id": "fbf4f760-6482-4527-a0b5-df729302530d",
   "metadata": {},
   "outputs": [
    {
     "name": "stdout",
     "output_type": "stream",
     "text": [
      "tensor([0., 0., 1.])\n"
     ]
    }
   ],
   "source": [
    "relu = nn.ReLU()\n",
    "\n",
    "input_tensor = torch.tensor([-1.0, 0.0, 1.0])\n",
    "output_tensor = relu(input_tensor) \n",
    "\n",
    "print(output_tensor)"
   ]
  },
  {
   "cell_type": "code",
   "execution_count": 85,
   "id": "79442e3b-fcf3-488c-8df2-bd53e65eadc7",
   "metadata": {},
   "outputs": [
    {
     "name": "stdout",
     "output_type": "stream",
     "text": [
      "tensor([0.2689, 0.5000, 0.7311])\n"
     ]
    }
   ],
   "source": [
    "sigmoid = nn.Sigmoid()\n",
    "\n",
    "input_tensor = torch.tensor([-1.0, 0.0, 1.0])\n",
    "output_tensor = sigmoid(input_tensor) \n",
    "\n",
    "print(output_tensor)"
   ]
  },
  {
   "cell_type": "code",
   "execution_count": 87,
   "id": "82e42b2a-5a9f-4b3a-8875-3d5f71420a49",
   "metadata": {},
   "outputs": [
    {
     "name": "stdout",
     "output_type": "stream",
     "text": [
      "tensor(0.6041)\n"
     ]
    }
   ],
   "source": [
    "loss_fn = nn.CrossEntropyLoss()\n",
    "\n",
    "inputs = torch.tensor([[0.5, 1.5, 2.0]]) \n",
    "targets = torch.tensor([2])\n",
    "\n",
    "loss = loss_fn(inputs, targets)\n",
    "\n",
    "print(loss)"
   ]
  },
  {
   "cell_type": "code",
   "execution_count": 89,
   "id": "1167452d-97c3-4dc7-9fd6-8825be38500d",
   "metadata": {},
   "outputs": [
    {
     "name": "stdout",
     "output_type": "stream",
     "text": [
      "tensor(0.5000)\n"
     ]
    }
   ],
   "source": [
    "loss_fn = nn.MSELoss()\n",
    "\n",
    "inputs = torch.tensor([0.5, 1.5, 2.0]) \n",
    "targets = torch.tensor([1.0, 2.0, 3.0])\n",
    "\n",
    "loss = loss_fn(inputs, targets)\n",
    "\n",
    "print(loss)"
   ]
  },
  {
   "cell_type": "code",
   "execution_count": 91,
   "id": "b2c3e123-abb6-41b2-b335-c3462e809e05",
   "metadata": {},
   "outputs": [],
   "source": [
    "import torch.optim as optim"
   ]
  },
  {
   "cell_type": "code",
   "execution_count": 93,
   "id": "f87144c4-6c99-4674-879e-d7cb7dabb20e",
   "metadata": {},
   "outputs": [
    {
     "name": "stdout",
     "output_type": "stream",
     "text": [
      "tensor([[0.6546]], grad_fn=<AddmmBackward0>)\n"
     ]
    }
   ],
   "source": [
    "model = nn.Linear(in_features=2, out_features=1)\n",
    "\n",
    "optimizer = optim.SGD(model.parameters(), lr=0.01)\n",
    "\n",
    "input_tensor = torch.tensor([[1.0, 2.0]])\n",
    "target = torch.tensor([[1.0]])\n",
    "\n",
    "output = model(input_tensor)\n",
    "\n",
    "loss = nn.MSELoss()(output, target)\n",
    "\n",
    "optimizer.zero_grad() \n",
    "loss.backward() \n",
    "optimizer.step()\n",
    "\n",
    "print(output)"
   ]
  },
  {
   "cell_type": "code",
   "execution_count": 95,
   "id": "aaacacc7-afbd-4454-927e-e190c7cfc723",
   "metadata": {},
   "outputs": [
    {
     "name": "stdout",
     "output_type": "stream",
     "text": [
      "tensor([[0.3785]], grad_fn=<AddmmBackward0>)\n"
     ]
    }
   ],
   "source": [
    "model = nn.Linear(in_features=2, out_features=1)\n",
    "\n",
    "optimizer = optim.Adam(model.parameters(), lr=0.01)\n",
    "\n",
    "input_tensor = torch.tensor([[1.0, 2.0]]) \n",
    "target = torch.tensor([[1.0]])\n",
    "\n",
    "output = model(input_tensor)\n",
    "\n",
    "loss = nn.MSELoss()(output, target)\n",
    "\n",
    "optimizer.zero_grad() \n",
    "loss.backward() \n",
    "optimizer.step()\n",
    "\n",
    "print(output)"
   ]
  },
  {
   "cell_type": "code",
   "execution_count": 97,
   "id": "f9825339-778c-4d58-bc0e-c50f08624d3c",
   "metadata": {},
   "outputs": [
    {
     "name": "stdout",
     "output_type": "stream",
     "text": [
      "Epoch 1, Loss: 2.515454053878784, LR: [0.01]\n",
      "Epoch 2, Loss: 2.3901727199554443, LR: [0.01]\n",
      "Epoch 3, Loss: 2.268181085586548, LR: [0.01]\n",
      "Epoch 4, Loss: 2.149533748626709, LR: [0.01]\n",
      "Epoch 5, Loss: 2.0342812538146973, LR: [0.01]\n",
      "Epoch 6, Loss: 1.922466516494751, LR: [0.01]\n",
      "Epoch 7, Loss: 1.8141309022903442, LR: [0.01]\n",
      "Epoch 8, Loss: 1.7093075513839722, LR: [0.01]\n",
      "Epoch 9, Loss: 1.6080241203308105, LR: [0.01]\n",
      "Epoch 10, Loss: 1.510303258895874, LR: [0.001]\n",
      "Epoch 11, Loss: 1.416159987449646, LR: [0.001]\n",
      "Epoch 12, Loss: 1.4069697856903076, LR: [0.001]\n",
      "Epoch 13, Loss: 1.3978557586669922, LR: [0.001]\n",
      "Epoch 14, Loss: 1.3888095617294312, LR: [0.001]\n",
      "Epoch 15, Loss: 1.3798246383666992, LR: [0.001]\n",
      "Epoch 16, Loss: 1.3708951473236084, LR: [0.001]\n",
      "Epoch 17, Loss: 1.3620173931121826, LR: [0.001]\n",
      "Epoch 18, Loss: 1.353187918663025, LR: [0.001]\n",
      "Epoch 19, Loss: 1.3444037437438965, LR: [0.001]\n",
      "Epoch 20, Loss: 1.3356633186340332, LR: [0.0001]\n"
     ]
    }
   ],
   "source": [
    "model = nn.Linear(in_features=2, out_features=1)\n",
    "\n",
    "optimizer = optim.Adam(model.parameters(), lr=0.01)\n",
    "\n",
    "scheduler = optim.lr_scheduler.StepLR(optimizer, step_size=10, gamma=0.1)\n",
    "\n",
    "input_tensor = torch.tensor([[1.0, 2.0]]) \n",
    "target = torch.tensor([[1.0]])\n",
    "\n",
    "for epoch in range(20):\n",
    "    output = model(input_tensor)\n",
    "    loss = nn.MSELoss()(output, target)\n",
    "    optimizer.zero_grad() \n",
    "    loss.backward() \n",
    "    optimizer.step()\n",
    "\n",
    "    scheduler.step()\n",
    "\n",
    "    print(f\"Epoch {epoch+1}, Loss: {loss.item()}, LR: {scheduler.get_last_lr()}\")"
   ]
  },
  {
   "cell_type": "code",
   "execution_count": 99,
   "id": "21a99165-fb2e-4fe9-8599-38d5fdfee5b1",
   "metadata": {},
   "outputs": [
    {
     "name": "stdout",
     "output_type": "stream",
     "text": [
      "(tensor(4.),)\n"
     ]
    }
   ],
   "source": [
    "x = torch.tensor(2.0, requires_grad=True) \n",
    "y = x ** 2\n",
    "\n",
    "grad = torch.autograd.grad(outputs=y, inputs=x)\n",
    "print(grad)"
   ]
  },
  {
   "cell_type": "code",
   "execution_count": 101,
   "id": "bd866f07-c1ee-498d-869b-9c234c731459",
   "metadata": {},
   "outputs": [
    {
     "name": "stdout",
     "output_type": "stream",
     "text": [
      "tensor(4.)\n"
     ]
    }
   ],
   "source": [
    "x = torch.tensor(2.0, requires_grad=True) \n",
    "y = x ** 2\n",
    "\n",
    "y.backward()\n",
    "\n",
    "print(x.grad)"
   ]
  },
  {
   "cell_type": "code",
   "execution_count": 103,
   "id": "c4d72cd5-1195-4981-bfcd-dbc7fa88953e",
   "metadata": {},
   "outputs": [
    {
     "name": "stdout",
     "output_type": "stream",
     "text": [
      "False\n"
     ]
    }
   ],
   "source": [
    "cuda_available = torch.cuda.is_available()\n",
    "\n",
    "print(cuda_available)"
   ]
  },
  {
   "cell_type": "code",
   "execution_count": 107,
   "id": "1bb8e80d-13fa-4ec5-85a4-7b5e27286d24",
   "metadata": {},
   "outputs": [],
   "source": [
    "if torch.cuda.is_available():\n",
    "    with torch.cuda.device(0):\n",
    "# Create a tensor and move it to the GPU\n",
    "       tensor = torch.tensor([1, 2, 3], device=torch.device('cuda'))\n",
    "       print(tensor)"
   ]
  },
  {
   "cell_type": "code",
   "execution_count": 109,
   "id": "d7d533fc-029b-4599-958d-8109023c4961",
   "metadata": {},
   "outputs": [],
   "source": [
    "tensor = torch.tensor([1, 2, 3])\n",
    "torch.save(tensor, 'tensor.pth')"
   ]
  },
  {
   "cell_type": "code",
   "execution_count": 111,
   "id": "475e788a-2ee9-4a06-8f41-065575a139e0",
   "metadata": {},
   "outputs": [
    {
     "name": "stdout",
     "output_type": "stream",
     "text": [
      "tensor([1, 2, 3])\n"
     ]
    },
    {
     "name": "stderr",
     "output_type": "stream",
     "text": [
      "C:\\Users\\User\\AppData\\Local\\Temp\\ipykernel_15620\\1987365928.py:1: FutureWarning: You are using `torch.load` with `weights_only=False` (the current default value), which uses the default pickle module implicitly. It is possible to construct malicious pickle data which will execute arbitrary code during unpickling (See https://github.com/pytorch/pytorch/blob/main/SECURITY.md#untrusted-models for more details). In a future release, the default value for `weights_only` will be flipped to `True`. This limits the functions that could be executed during unpickling. Arbitrary objects will no longer be allowed to be loaded via this mode unless they are explicitly allowlisted by the user via `torch.serialization.add_safe_globals`. We recommend you start setting `weights_only=True` for any use case where you don't have full control of the loaded file. Please open an issue on GitHub for any issues related to this experimental feature.\n",
      "  tensor = torch.load('tensor.pth')\n"
     ]
    }
   ],
   "source": [
    "tensor = torch.load('tensor.pth') \n",
    "print(tensor)"
   ]
  },
  {
   "cell_type": "code",
   "execution_count": 117,
   "id": "153c6fb5-45a7-4bfc-a6c7-c636324c2419",
   "metadata": {},
   "outputs": [
    {
     "name": "stdout",
     "output_type": "stream",
     "text": [
      "SimpleNN(\n",
      "  (fc1): Linear(in_features=2, out_features=2, bias=True)\n",
      "  (fc2): Linear(in_features=2, out_features=1, bias=True)\n",
      ")\n"
     ]
    }
   ],
   "source": [
    "class SimpleNN(nn.Module):\n",
    "\n",
    "      def __init__(self): \n",
    "          super(SimpleNN, self).__init__() \n",
    "          self.fc1 = nn.Linear(2, 2) \n",
    "          self.fc2 = nn.Linear(2, 1)\n",
    "\n",
    "      def forward(self, x):\n",
    "          x\t= self.fc1(x)\n",
    "          x\t= torch.relu(x)\n",
    "          x\t= self.fc2(x) \n",
    "          \n",
    "          return x\n",
    "          \n",
    "model = SimpleNN() \n",
    "print(model)"
   ]
  },
  {
   "cell_type": "code",
   "execution_count": 119,
   "id": "f4f03899-1abf-4ac8-a667-9c884d8ff80e",
   "metadata": {},
   "outputs": [
    {
     "name": "stdout",
     "output_type": "stream",
     "text": [
      "Sequential(\n",
      "  (0): Linear(in_features=2, out_features=2, bias=True)\n",
      "  (1): ReLU()\n",
      "  (2): Linear(in_features=2, out_features=1, bias=True)\n",
      ")\n"
     ]
    }
   ],
   "source": [
    "model = nn.Sequential(\n",
    "        nn.Linear(2, 2), nn.ReLU(), nn.Linear(2, 1)\n",
    "       )\n",
    "\n",
    "print(model)"
   ]
  },
  {
   "cell_type": "code",
   "execution_count": 121,
   "id": "230b65e5-ee5a-435e-9edf-fdc3810d289c",
   "metadata": {},
   "outputs": [
    {
     "name": "stdout",
     "output_type": "stream",
     "text": [
      "tensor([[ 2.7138, -0.9640,  2.7560],\n",
      "        [ 0.0000,  0.5864,  0.0000]])\n"
     ]
    }
   ],
   "source": [
    "dropout = nn.Dropout(p=0.5)\n",
    "\n",
    "input_tensor = torch.randn(2, 3)\n",
    "output_tensor = dropout(input_tensor)\n",
    "\n",
    "print(output_tensor)"
   ]
  },
  {
   "cell_type": "code",
   "execution_count": 123,
   "id": "48a8a7d3-d8de-44d2-913a-4dd7688785e3",
   "metadata": {},
   "outputs": [
    {
     "name": "stdout",
     "output_type": "stream",
     "text": [
      "tensor([[[[-0.1852,  0.3328, -1.7205, -0.0040],\n",
      "          [-1.3741, -0.5249,  0.5749, -0.9485],\n",
      "          [ 0.6455,  2.5908, -0.1493, -0.3556],\n",
      "          [ 1.2155, -0.6411,  1.2372, -0.3352]],\n",
      "\n",
      "         [[ 0.8375,  1.2993, -0.9723, -2.6958],\n",
      "          [ 0.2791, -1.7267,  0.6025,  0.7566],\n",
      "          [-0.6430, -0.2880,  0.3019, -0.0993],\n",
      "          [ 1.3650,  1.3244,  1.2191,  0.3596]],\n",
      "\n",
      "         [[ 0.6427, -0.4442,  0.2860,  0.2954],\n",
      "          [ 0.4988,  0.7148, -1.3696, -0.5979],\n",
      "          [-0.5079,  1.3890, -0.0206, -1.0262],\n",
      "          [-0.1856, -1.1410, -0.4332, -0.7846]]],\n",
      "\n",
      "\n",
      "        [[[ 0.2925, -2.0520, -0.2209,  1.0290],\n",
      "          [ 0.9717, -0.9777, -1.4887,  0.0330],\n",
      "          [ 0.0597,  1.1173, -0.6246, -0.3798],\n",
      "          [-0.8849,  0.7958,  1.0975,  0.8737]],\n",
      "\n",
      "         [[-0.2374, -0.1053,  1.3717,  0.2321],\n",
      "          [-0.0517,  0.4391,  0.4906, -0.3165],\n",
      "          [-0.0792, -2.3529, -0.5814, -1.0641],\n",
      "          [ 1.1402, -0.4793, -0.6306,  0.3048]],\n",
      "\n",
      "         [[ 1.0824,  2.0588,  0.0235, -0.6140],\n",
      "          [ 1.4800,  0.2948, -0.1726,  0.2566],\n",
      "          [-0.9668, -2.5336,  1.8780, -0.7927],\n",
      "          [-1.0295,  0.8917,  1.1137, -0.2861]]]],\n",
      "       grad_fn=<NativeBatchNormBackward0>)\n"
     ]
    }
   ],
   "source": [
    "batch_norm = nn.BatchNorm2d(num_features=3)\n",
    "\n",
    "input_tensor = torch.randn(2, 3, 4, 4)\n",
    "output_tensor = batch_norm(input_tensor)\n",
    "\n",
    "print(output_tensor)"
   ]
  },
  {
   "cell_type": "code",
   "execution_count": 125,
   "id": "1caa13b9-5197-42da-aca0-021b50fecd95",
   "metadata": {},
   "outputs": [],
   "source": [
    "import torch\n",
    "from torch.utils.data import DataLoader, TensorDataset"
   ]
  },
  {
   "cell_type": "code",
   "execution_count": 127,
   "id": "54b06cda-6ff1-442a-b7ba-1df000b23e7b",
   "metadata": {},
   "outputs": [
    {
     "name": "stdout",
     "output_type": "stream",
     "text": [
      "torch.Size([10, 2]) torch.Size([10, 1])\n",
      "torch.Size([10, 2]) torch.Size([10, 1])\n",
      "torch.Size([10, 2]) torch.Size([10, 1])\n",
      "torch.Size([10, 2]) torch.Size([10, 1])\n",
      "torch.Size([10, 2]) torch.Size([10, 1])\n",
      "torch.Size([10, 2]) torch.Size([10, 1])\n",
      "torch.Size([10, 2]) torch.Size([10, 1])\n",
      "torch.Size([10, 2]) torch.Size([10, 1])\n",
      "torch.Size([10, 2]) torch.Size([10, 1])\n",
      "torch.Size([10, 2]) torch.Size([10, 1])\n"
     ]
    }
   ],
   "source": [
    "data = torch.randn(100, 2) \n",
    "targets = torch.randn(100, 1)\n",
    "dataset = TensorDataset(data, targets)\n",
    "\n",
    "data_loader = DataLoader(dataset, batch_size=10, shuffle=True)\n",
    "\n",
    "for batch_data, batch_targets in data_loader:\n",
    "          print(batch_data.size(), batch_targets.size())"
   ]
  },
  {
   "cell_type": "code",
   "execution_count": 129,
   "id": "de85f9cd-f33f-403c-bc85-bf6a712dd7a0",
   "metadata": {},
   "outputs": [],
   "source": [
    "import torch\n",
    "from torch.utils.data import Dataset"
   ]
  },
  {
   "cell_type": "code",
   "execution_count": 136,
   "id": "df64a2b9-abb3-438a-adcf-d1686a1d3d1a",
   "metadata": {},
   "outputs": [],
   "source": [
    "class CustomDataset(Dataset):\n",
    "\n",
    "    def __init__(self, data, targets): \n",
    "        self.data = data \n",
    "        self.targets = targets\n",
    "\n",
    "    def __len__(self):\n",
    "       return len(self.data)\n",
    "\n",
    "    def __getitem__(self, index):\n",
    "       return self.data[index], self.targets[index]\n",
    "\n",
    "data = torch.randn(100, 2)\n",
    "targets = torch.randn(100, 1)\n",
    "dataset = CustomDataset(data, targets)"
   ]
  },
  {
   "cell_type": "code",
   "execution_count": 138,
   "id": "8aec7574-5d8c-43f0-8f3c-e1f899a769d2",
   "metadata": {},
   "outputs": [
    {
     "name": "stdout",
     "output_type": "stream",
     "text": [
      "100\n"
     ]
    }
   ],
   "source": [
    "print(len(dataset))"
   ]
  },
  {
   "cell_type": "code",
   "execution_count": 140,
   "id": "24fdc5df-7912-4a68-ac6b-08f94ac6c977",
   "metadata": {},
   "outputs": [
    {
     "name": "stdout",
     "output_type": "stream",
     "text": [
      "(tensor([-0.6967, -0.1066]), tensor([0.2474]))\n"
     ]
    }
   ],
   "source": [
    "print(dataset[0])"
   ]
  }
 ],
 "metadata": {
  "kernelspec": {
   "display_name": "Python 3 (ipykernel)",
   "language": "python",
   "name": "python3"
  },
  "language_info": {
   "codemirror_mode": {
    "name": "ipython",
    "version": 3
   },
   "file_extension": ".py",
   "mimetype": "text/x-python",
   "name": "python",
   "nbconvert_exporter": "python",
   "pygments_lexer": "ipython3",
   "version": "3.12.5"
  }
 },
 "nbformat": 4,
 "nbformat_minor": 5
}
